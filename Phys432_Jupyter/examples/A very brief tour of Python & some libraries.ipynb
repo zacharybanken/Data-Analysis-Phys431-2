{
 "cells": [
  {
   "cell_type": "markdown",
   "metadata": {},
   "source": [
    "# Python: A very brief tour\n",
    "\n",
    "## David B. Pengra\n",
    "\n",
    "Everything I know about Python I've learned from reading about it and trying stuff out.  You can do this too. I recommend the [Whirlwind Tour of Python](https://jakevdp.github.io/WhirlwindTourOfPython/) and the [Python Data Science Handbook](https://jakevdp.github.io/PythonDataScienceHandbook/) both by Jake VanderPlas.\n",
    "\n",
    "Below, I give some examples of aspects of Python as a language and a look at some basic tasks done with **NumPy**, **Matplotlib** and **LMFit** packages.\n"
   ]
  },
  {
   "cell_type": "markdown",
   "metadata": {},
   "source": [
    "### In Python, everything is an \"object\"\n",
    "\n",
    "That means everything has a **type**, has additional data called **attributes** and internal functions called **methods**.  You can see what these are with the `type()`, `help()` and `dir()` functions."
   ]
  },
  {
   "cell_type": "code",
   "execution_count": 1,
   "metadata": {},
   "outputs": [],
   "source": [
    "a = -35.4"
   ]
  },
  {
   "cell_type": "code",
   "execution_count": 2,
   "metadata": {},
   "outputs": [
    {
     "data": {
      "text/plain": [
       "float"
      ]
     },
     "execution_count": 2,
     "metadata": {},
     "output_type": "execute_result"
    }
   ],
   "source": [
    "type(a)"
   ]
  },
  {
   "cell_type": "code",
   "execution_count": 3,
   "metadata": {},
   "outputs": [
    {
     "data": {
      "text/plain": [
       "False"
      ]
     },
     "execution_count": 3,
     "metadata": {},
     "output_type": "execute_result"
    }
   ],
   "source": [
    "# is_integer() is a Boolean method that retirns true if the floating point number \n",
    "# could be replaced with an integer without loss of precision.\n",
    "#\n",
    "a.is_integer()"
   ]
  },
  {
   "cell_type": "markdown",
   "metadata": {},
   "source": [
    "### Variables are pointers\n",
    "\n",
    "But, most basic types are \"immutable\" so you can't tell.  Immutable means it cannot be changed, so if you try to change it, what you really do is reassign the variable to point to a new object.  "
   ]
  },
  {
   "cell_type": "code",
   "execution_count": 4,
   "metadata": {},
   "outputs": [
    {
     "name": "stdout",
     "output_type": "stream",
     "text": [
      "-35.4\n"
     ]
    }
   ],
   "source": [
    "b = a\n",
    "print(b)"
   ]
  },
  {
   "cell_type": "code",
   "execution_count": 5,
   "metadata": {},
   "outputs": [
    {
     "name": "stdout",
     "output_type": "stream",
     "text": [
      "5\n",
      "-35.4\n"
     ]
    }
   ],
   "source": [
    "a = 5\n",
    "print(a)\n",
    "print(b)"
   ]
  },
  {
   "cell_type": "markdown",
   "metadata": {},
   "source": [
    "### But...\n",
    "\n",
    "\"Mutable\" types can change their contents.  The variable \"pointer\" points to the structure, not the contents of the mutable structure.  This is most relevant with lists. "
   ]
  },
  {
   "cell_type": "code",
   "execution_count": 6,
   "metadata": {
    "scrolled": true
   },
   "outputs": [
    {
     "data": {
      "text/plain": [
       "[1, 2, 3, 4, 5, 6, 7, 8, 9.5]"
      ]
     },
     "execution_count": 6,
     "metadata": {},
     "output_type": "execute_result"
    }
   ],
   "source": [
    "numbers = [1,2,3,4,5,6,7,8, 9.5]\n",
    "numbers"
   ]
  },
  {
   "cell_type": "code",
   "execution_count": 7,
   "metadata": {},
   "outputs": [
    {
     "name": "stdout",
     "output_type": "stream",
     "text": [
      "a = [1, 2, 3, 4, 5, 6, 7, 8, 9.5]\n",
      "b = [1, 2, 3, 4, 5, 6, 7, 8, 9.5]\n"
     ]
    }
   ],
   "source": [
    "a = numbers\n",
    "b = a\n",
    "print(\"a =\", a)\n",
    "print(\"b =\", b)"
   ]
  },
  {
   "cell_type": "code",
   "execution_count": 8,
   "metadata": {},
   "outputs": [
    {
     "name": "stdout",
     "output_type": "stream",
     "text": [
      "a = [10, 2, 3, 4, 5, 6, 7, 8, 9.5]\n",
      "b = [10, 2, 3, 4, 5, 6, 7, 8, 9.5]\n",
      "numbers = [10, 2, 3, 4, 5, 6, 7, 8, 9.5]\n"
     ]
    }
   ],
   "source": [
    "b[0] = 10\n",
    "print(\"a =\", a)\n",
    "print(\"b =\", b)\n",
    "print(\"numbers =\", numbers)"
   ]
  },
  {
   "cell_type": "markdown",
   "metadata": {},
   "source": [
    "To save the list no a new variable that will not affect the old list, use the copy() method"
   ]
  },
  {
   "cell_type": "code",
   "execution_count": 9,
   "metadata": {},
   "outputs": [
    {
     "name": "stdout",
     "output_type": "stream",
     "text": [
      "a = [56.2, 2, 3, 4, 5, 6, 7, 8, 9.5]\n",
      "b = [56.2, 2, 3, 4, 5, 6, 7, 8, 9.5]\n",
      "numbers = [1, 2, 3, 4, 5, 6, 7, 8, 9.5]\n"
     ]
    }
   ],
   "source": [
    "numbers = [1,2,3,4,5,6,7,8, 9.5]\n",
    "a = numbers.copy()\n",
    "b = a\n",
    "b[0] = 56.2\n",
    "print(\"a =\", a)\n",
    "print(\"b =\", b)\n",
    "print(\"numbers =\", numbers)"
   ]
  },
  {
   "cell_type": "markdown",
   "metadata": {},
   "source": [
    "### The real action is in Python packages\n",
    "\n",
    "Every notebook will include **NumPy** and **Matplotlib**"
   ]
  },
  {
   "cell_type": "code",
   "execution_count": 10,
   "metadata": {},
   "outputs": [],
   "source": [
    "# Usually import packages via a handle to the functions in them using import ... as ...\n",
    "#\n",
    "import numpy as np\n",
    "import matplotlib.pyplot as plt\n",
    "import uncertainties as unc\n",
    "%matplotlib inline"
   ]
  },
  {
   "cell_type": "markdown",
   "metadata": {},
   "source": [
    "A NumPy array is really useful. Compare similar operations with the original list.  Numpy arrays allow you to change every element of an array as easily as changing a single vaule."
   ]
  },
  {
   "cell_type": "code",
   "execution_count": 11,
   "metadata": {},
   "outputs": [
    {
     "data": {
      "text/plain": [
       "array([1. , 2. , 3. , 4. , 5. , 6. , 7. , 8. , 9.5])"
      ]
     },
     "execution_count": 11,
     "metadata": {},
     "output_type": "execute_result"
    }
   ],
   "source": [
    "c = np.array(numbers)\n",
    "c"
   ]
  },
  {
   "cell_type": "code",
   "execution_count": 12,
   "metadata": {},
   "outputs": [
    {
     "name": "stdout",
     "output_type": "stream",
     "text": [
      "[15.0, 2, 3, 4, 5, 6, 7, 8, 9.5]\n",
      "[1.  2.  3.  4.  5.  6.  7.  8.  9.5]\n"
     ]
    }
   ],
   "source": [
    "numbers[0] = 15.0\n",
    "print(numbers)\n",
    "print(c)"
   ]
  },
  {
   "cell_type": "code",
   "execution_count": 13,
   "metadata": {},
   "outputs": [
    {
     "name": "stdout",
     "output_type": "stream",
     "text": [
      "[25.   2.   3.   4.   5.   6.   7.   8.   9.5]\n",
      "[25.   2.   3.   4.   5.   6.   7.   8.   9.5]\n"
     ]
    }
   ],
   "source": [
    "d = c.view()\n",
    "d[0] = 25.0\n",
    "print(c)\n",
    "print(d)"
   ]
  },
  {
   "cell_type": "code",
   "execution_count": 14,
   "metadata": {},
   "outputs": [
    {
     "data": {
      "text/plain": [
       "numpy.ndarray"
      ]
     },
     "execution_count": 14,
     "metadata": {},
     "output_type": "execute_result"
    }
   ],
   "source": [
    "type(c)"
   ]
  },
  {
   "cell_type": "code",
   "execution_count": 15,
   "metadata": {},
   "outputs": [
    {
     "name": "stdout",
     "output_type": "stream",
     "text": [
      "numbers * 2 =  [15.0, 2, 3, 4, 5, 6, 7, 8, 9.5, 15.0, 2, 3, 4, 5, 6, 7, 8, 9.5]\n",
      "c ** 2 = [625.     4.     9.    16.    25.    36.    49.    64.    90.25]\n"
     ]
    }
   ],
   "source": [
    "print(\"numbers * 2 = \", numbers * 2)\n",
    "print(\"c ** 2 =\", c ** 2)"
   ]
  },
  {
   "cell_type": "markdown",
   "metadata": {},
   "source": [
    "Mathematical operations on lists concern concatinations, and in order to work, the operands must be lists."
   ]
  },
  {
   "cell_type": "code",
   "execution_count": 16,
   "metadata": {},
   "outputs": [
    {
     "name": "stdout",
     "output_type": "stream",
     "text": [
      "c + 2 = [27.   4.   5.   6.   7.   8.   9.  10.  11.5]\n"
     ]
    },
    {
     "ename": "TypeError",
     "evalue": "can only concatenate list (not \"int\") to list",
     "output_type": "error",
     "traceback": [
      "\u001b[1;31m---------------------------------------------------------------------------\u001b[0m",
      "\u001b[1;31mTypeError\u001b[0m                                 Traceback (most recent call last)",
      "\u001b[1;32m<ipython-input-16-62117ab5fdb9>\u001b[0m in \u001b[0;36m<module>\u001b[1;34m\u001b[0m\n\u001b[0;32m      1\u001b[0m \u001b[0mprint\u001b[0m\u001b[1;33m(\u001b[0m\u001b[1;34m\"c + 2 =\"\u001b[0m\u001b[1;33m,\u001b[0m \u001b[0mc\u001b[0m \u001b[1;33m+\u001b[0m \u001b[1;36m2\u001b[0m\u001b[1;33m)\u001b[0m\u001b[1;33m\u001b[0m\u001b[1;33m\u001b[0m\u001b[0m\n\u001b[1;32m----> 2\u001b[1;33m \u001b[0mprint\u001b[0m\u001b[1;33m(\u001b[0m\u001b[1;34m\"numbers + 2 = \"\u001b[0m\u001b[1;33m,\u001b[0m \u001b[0mnumbers\u001b[0m \u001b[1;33m+\u001b[0m \u001b[1;36m2\u001b[0m\u001b[1;33m)\u001b[0m\u001b[1;33m\u001b[0m\u001b[1;33m\u001b[0m\u001b[0m\n\u001b[0m",
      "\u001b[1;31mTypeError\u001b[0m: can only concatenate list (not \"int\") to list"
     ]
    }
   ],
   "source": [
    "print(\"c + 2 =\", c + 2)\n",
    "print(\"numbers + 2 = \", numbers + 2)"
   ]
  },
  {
   "cell_type": "markdown",
   "metadata": {},
   "source": [
    "NumPy functions will often convert numerical lists into NumPy arrays automatically."
   ]
  },
  {
   "cell_type": "code",
   "execution_count": 17,
   "metadata": {},
   "outputs": [
    {
     "name": "stdout",
     "output_type": "stream",
     "text": [
      "sin(c) = [-0.13235175  0.90929743  0.14112001 -0.7568025  -0.95892427 -0.2794155\n",
      "  0.6569866   0.98935825 -0.07515112]\n",
      "sin(numbers) = [ 0.65028784  0.90929743  0.14112001 -0.7568025  -0.95892427 -0.2794155\n",
      "  0.6569866   0.98935825 -0.07515112]\n"
     ]
    }
   ],
   "source": [
    "print(\"sin(c) =\", np.sin(c))\n",
    "print(\"sin(numbers) =\", np.sin(numbers))"
   ]
  },
  {
   "cell_type": "markdown",
   "metadata": {},
   "source": [
    "Look at all of the methods inside a NumPy array!"
   ]
  },
  {
   "cell_type": "code",
   "execution_count": null,
   "metadata": {
    "scrolled": false
   },
   "outputs": [],
   "source": [
    "help(c)"
   ]
  },
  {
   "cell_type": "markdown",
   "metadata": {},
   "source": [
    "## Get data into the notebook\n",
    "\n",
    "There are many ways to enter data for analysis:\n",
    "\n",
    "1. **Create arrays directly.** This is the quickest if you do not have any computer files (spreadsheets or text files) with the data set you want to analyze already.  But it is the least flexible.  Your life will be easier if you adopt one of the following methods.\n",
    "2. **Read a text file with `np.loadtxt()`.**  This is a relatively simple function that will read in a single \"Comma Separated Value\" (CSV) file and store its contents into NumPy arrays.\n",
    "3. **Read in a CSV file with `pd.read_csv()`.** This works similarly to **loadtxt()** but it is more forgiving of mixed data types.  It also creates a Pandas DataFrame rather than a NumPy array.\n",
    "4. **Read an Excel file with `pd.read_excel()`.** The Pandas library has some very powerful and easy to use function that can swallow a whole multi-worksheet Excel file in one call.  It makes a Python \"dictionary\" (type is `dict`) of Pandas DataFrames, with each DataFrame being one Excel sheet.\n",
    "\n",
    "Here are some examples using experimental data from the optics lab on Snell's law of refraction."
   ]
  },
  {
   "cell_type": "markdown",
   "metadata": {},
   "source": [
    "### Method 1: Enter data directly\n",
    "\n",
    "Pay close attention to the syntax in the following statements."
   ]
  },
  {
   "cell_type": "code",
   "execution_count": 19,
   "metadata": {},
   "outputs": [],
   "source": [
    "# This will create two NumPy arrays\n",
    "theta_inc = np.array([10.0, 20.0, 30.0, 40.0, 50.0, 60.0, 70.0, 80.0])\n",
    "theta_refr = np.array([6.8, 13.3, 19.5, 25.4, 31.0, 35.5, 39.3, 41.5])"
   ]
  },
  {
   "cell_type": "markdown",
   "metadata": {},
   "source": [
    "### Method 2: read in a CSV file with `np.loadtxt()`\n",
    "\n",
    "You should study the documentation of any NumPy function that you use.  That is how will learn to solve more challenging coding problems."
   ]
  },
  {
   "cell_type": "code",
   "execution_count": 20,
   "metadata": {},
   "outputs": [
    {
     "data": {
      "text/plain": [
       "array([[10. ,  6.8,  5. ,  8.2],\n",
       "       [20. , 13.3, 10. , 15.3],\n",
       "       [30. , 19.5, 15. , 23.3],\n",
       "       [40. , 25.4, 20. , 31. ],\n",
       "       [50. , 31. , 25. , 39.1],\n",
       "       [60. , 35.5, 30. , 48.5],\n",
       "       [70. , 39.3, 35. , 59. ],\n",
       "       [80. , 41.5, 40. , 74. ]])"
      ]
     },
     "execution_count": 20,
     "metadata": {},
     "output_type": "execute_result"
    }
   ],
   "source": [
    "# \"skiprows\" jumps over the row with the column headings.\n",
    "# The default delimiter is a space, by a CSV file uses commas\n",
    "#\n",
    "# YOU NEED TO HAVE A CSV DATA FILE TO RUN THIS\n",
    "#\n",
    "SL_data = np.loadtxt(\"snells_law_data.csv\",delimiter=',',skiprows=1)\n",
    "SL_data # This prints out a default listing of what is read in, in this case, a 2d array."
   ]
  },
  {
   "cell_type": "code",
   "execution_count": 21,
   "metadata": {},
   "outputs": [
    {
     "name": "stdout",
     "output_type": "stream",
     "text": [
      "[10. 20. 30. 40. 50. 60. 70. 80.]\n"
     ]
    }
   ],
   "source": [
    "# Extract columns of the of the 2d array.  \n",
    "theta_inc = SL_data[:,0]\n",
    "theta_refr = SL_data[:,1]\n",
    "print(theta_inc)"
   ]
  },
  {
   "cell_type": "markdown",
   "metadata": {},
   "source": [
    "### Method 3: read in a CSV file with `pd.read_csv()`\n",
    "\n",
    "The data structure returned from this is more complex.  It is a Pandas \"DataFrame.\"  Each DataFrame is like a 2D array, but the data type of the whole DataFrame is not fixed to one type, unlike for NumPy arrays.  But the command is very easy to use."
   ]
  },
  {
   "cell_type": "code",
   "execution_count": 22,
   "metadata": {},
   "outputs": [
    {
     "data": {
      "text/html": [
       "<div>\n",
       "<style scoped>\n",
       "    .dataframe tbody tr th:only-of-type {\n",
       "        vertical-align: middle;\n",
       "    }\n",
       "\n",
       "    .dataframe tbody tr th {\n",
       "        vertical-align: top;\n",
       "    }\n",
       "\n",
       "    .dataframe thead th {\n",
       "        text-align: right;\n",
       "    }\n",
       "</style>\n",
       "<table border=\"1\" class=\"dataframe\">\n",
       "  <thead>\n",
       "    <tr style=\"text-align: right;\">\n",
       "      <th></th>\n",
       "      <th>theta_inc</th>\n",
       "      <th>theta_refr</th>\n",
       "      <th>theta_i_rev</th>\n",
       "      <th>theta_r_rev</th>\n",
       "    </tr>\n",
       "  </thead>\n",
       "  <tbody>\n",
       "    <tr>\n",
       "      <th>0</th>\n",
       "      <td>10</td>\n",
       "      <td>6.8</td>\n",
       "      <td>5</td>\n",
       "      <td>8.2</td>\n",
       "    </tr>\n",
       "    <tr>\n",
       "      <th>1</th>\n",
       "      <td>20</td>\n",
       "      <td>13.3</td>\n",
       "      <td>10</td>\n",
       "      <td>15.3</td>\n",
       "    </tr>\n",
       "    <tr>\n",
       "      <th>2</th>\n",
       "      <td>30</td>\n",
       "      <td>19.5</td>\n",
       "      <td>15</td>\n",
       "      <td>23.3</td>\n",
       "    </tr>\n",
       "    <tr>\n",
       "      <th>3</th>\n",
       "      <td>40</td>\n",
       "      <td>25.4</td>\n",
       "      <td>20</td>\n",
       "      <td>31.0</td>\n",
       "    </tr>\n",
       "    <tr>\n",
       "      <th>4</th>\n",
       "      <td>50</td>\n",
       "      <td>31.0</td>\n",
       "      <td>25</td>\n",
       "      <td>39.1</td>\n",
       "    </tr>\n",
       "    <tr>\n",
       "      <th>5</th>\n",
       "      <td>60</td>\n",
       "      <td>35.5</td>\n",
       "      <td>30</td>\n",
       "      <td>48.5</td>\n",
       "    </tr>\n",
       "    <tr>\n",
       "      <th>6</th>\n",
       "      <td>70</td>\n",
       "      <td>39.3</td>\n",
       "      <td>35</td>\n",
       "      <td>59.0</td>\n",
       "    </tr>\n",
       "    <tr>\n",
       "      <th>7</th>\n",
       "      <td>80</td>\n",
       "      <td>41.5</td>\n",
       "      <td>40</td>\n",
       "      <td>74.0</td>\n",
       "    </tr>\n",
       "  </tbody>\n",
       "</table>\n",
       "</div>"
      ],
      "text/plain": [
       "   theta_inc  theta_refr  theta_i_rev  theta_r_rev\n",
       "0         10         6.8            5          8.2\n",
       "1         20        13.3           10         15.3\n",
       "2         30        19.5           15         23.3\n",
       "3         40        25.4           20         31.0\n",
       "4         50        31.0           25         39.1\n",
       "5         60        35.5           30         48.5\n",
       "6         70        39.3           35         59.0\n",
       "7         80        41.5           40         74.0"
      ]
     },
     "execution_count": 22,
     "metadata": {},
     "output_type": "execute_result"
    }
   ],
   "source": [
    "# First, import the Pandas package\n",
    "import pandas as pd\n",
    "\n",
    "# YOU NEED TO HAVE A CSV DATA FILE TO RUN THIS\n",
    "#\n",
    "SL_df = pd.read_csv(\"snells_law_data.csv\")\n",
    "SL_df # Notice the nice formatting of the data table"
   ]
  },
  {
   "cell_type": "code",
   "execution_count": 23,
   "metadata": {},
   "outputs": [
    {
     "data": {
      "text/plain": [
       "0    10\n",
       "1    20\n",
       "2    30\n",
       "3    40\n",
       "4    50\n",
       "5    60\n",
       "6    70\n",
       "7    80\n",
       "Name: theta_inc, dtype: int64"
      ]
     },
     "execution_count": 23,
     "metadata": {},
     "output_type": "execute_result"
    }
   ],
   "source": [
    "# Columns may be directly accessed as follows\n",
    "SL_df['theta_inc']"
   ]
  },
  {
   "cell_type": "markdown",
   "metadata": {},
   "source": [
    "### Method 4: read in an Excel file with `pd.read_excel()`\n",
    "\n",
    "This is useful if you have a lot of data in multi-worksheet spreadsheet file that you would like to import all at once.  It creates Python \"dict\" (a.k.a. \"dictionary\") whose entries are Pandas \"DataFrames\".  Notice the code below that will print each worksheet."
   ]
  },
  {
   "cell_type": "code",
   "execution_count": 24,
   "metadata": {},
   "outputs": [
    {
     "name": "stdout",
     "output_type": "stream",
     "text": [
      "Sheet name:  snells_law_data\n",
      "   theta_inc  theta_refr  theta_i_rev  theta_r_rev\n",
      "0         10         6.8            5          8.2\n",
      "1         20        13.3           10         15.3\n",
      "2         30        19.5           15         23.3\n",
      "3         40        25.4           20         31.0\n",
      "4         50        31.0           25         39.1\n",
      "5         60        35.5           30         48.5\n",
      "6         70        39.3           35         59.0\n",
      "7         80        41.5           40         74.0\n",
      "Sheet name:  Gauss_lens_law_data\n",
      "    x_lens  x_img  y_obj  y_img\n",
      "0     24.5   60.0      5   19.0\n",
      "1     25.0   55.3      5   15.5\n",
      "2     26.0   49.3     15   32.0\n",
      "3     27.0   47.0     15   25.0\n",
      "4     29.0   45.0     15   17.0\n",
      "5     30.0   44.9     15   15.5\n",
      "6     32.0   45.2     15   12.0\n",
      "7     34.0   46.3     15    9.5\n",
      "8     37.0   48.3     15    7.5\n",
      "9     40.0   50.6     15    6.0\n",
      "10    50.0   59.4     15    4.0\n"
     ]
    }
   ],
   "source": [
    "# \"sheet_name\" allows you to specify which sheet to read in.  Setting it to \"None\"\n",
    "#     reads in all sheets\n",
    "#\n",
    "# YOU NEED TO HAVE An EXCEL (.xlsx) DATA FILE TO RUN THIS\n",
    "#\n",
    "Lenses_data = pd.read_excel(\"Lenses_lab_data.xlsx\", sheet_name=None)\n",
    "for item in Lenses_data:\n",
    "    print('Sheet name: ',item)\n",
    "    print(Lenses_data[item])"
   ]
  },
  {
   "cell_type": "code",
   "execution_count": 25,
   "metadata": {},
   "outputs": [],
   "source": [
    "# Extract columns from the first worksheet (called 'snells_law_data').  \n",
    "\n",
    "theta_inc = Lenses_data['snells_law_data']['theta_inc']\n",
    "theta_refr = Lenses_data['snells_law_data']['theta_refr']"
   ]
  },
  {
   "cell_type": "markdown",
   "metadata": {},
   "source": [
    "## A simple plot with a simple fit\n",
    "\n",
    "Very basic - like Excel ***trendline***\n",
    "\n",
    "First, plot the raw data."
   ]
  },
  {
   "cell_type": "code",
   "execution_count": 26,
   "metadata": {},
   "outputs": [
    {
     "data": {
      "image/png": "[encoded data removed]",
      "text/plain": [
       "<Figure size 720x576 with 1 Axes>"
      ]
     },
     "metadata": {
      "needs_background": "light"
     },
     "output_type": "display_data"
    }
   ],
   "source": [
    "# Look at each line below.  What does each line do?\n",
    "#\n",
    "plt.figure(figsize=(10,8))\n",
    "plt.plot(theta_inc,theta_refr,'ro',label=\"Snells law data for plastic\")\n",
    "plt.grid(True)\n",
    "plt.xlabel('Incident angle (degrees)')\n",
    "plt.ylabel('Refracted angle (degrees)')\n",
    "plt.title(\"Raw Snell's Law data\")\n",
    "plt.legend();"
   ]
  },
  {
   "cell_type": "markdown",
   "metadata": {},
   "source": [
    "Snell's law says that the ratio of the sines of the angles should be a constant dependent on the relative refractive indices.  So taking the sines should make a plot with a straight line.  \n",
    "\n",
    "**Dont' forget!** The argument to an angular function must be in radians (almost always)."
   ]
  },
  {
   "cell_type": "code",
   "execution_count": 27,
   "metadata": {},
   "outputs": [
    {
     "data": {
      "image/png": "[encoded data removed]",
      "text/plain": [
       "<Figure size 720x576 with 1 Axes>"
      ]
     },
     "metadata": {
      "needs_background": "light"
     },
     "output_type": "display_data"
    }
   ],
   "source": [
    "# Notice how you can take the sine of the whole array at once\n",
    "\n",
    "sin_th_inc = np.sin((np.pi/180.0)*theta_inc)\n",
    "sin_th_refr = np.sin((np.pi/180.0)*theta_refr)\n",
    "\n",
    "# Now plot this:\n",
    "plt.figure(figsize=(10,8))\n",
    "plt.plot(sin_th_inc,sin_th_refr,'ro',label=\"Snells law data for plastic\")\n",
    "plt.grid(True)\n",
    "plt.xlabel(r'$\\sin(\\theta_i)$')\n",
    "plt.ylabel(r'$\\sin(\\theta_r)$')\n",
    "plt.title(\"Transformed data\")\n",
    "plt.legend();"
   ]
  },
  {
   "cell_type": "markdown",
   "metadata": {},
   "source": [
    "### Fit a line\n",
    "\n",
    "Very basic.  Later we'll use something much more powerful."
   ]
  },
  {
   "cell_type": "code",
   "execution_count": 28,
   "metadata": {},
   "outputs": [
    {
     "name": "stdout",
     "output_type": "stream",
     "text": [
      "[ 6.72098323e-01 -2.59084985e-04]\n",
      "Intercept = -0.0003\n",
      "Slope = 0.6721\n"
     ]
    }
   ],
   "source": [
    "# The first line does a fit, and returns the fitting coefficients\n",
    "#\n",
    "my_coeff = np.polyfit(sin_th_inc,sin_th_refr,1) # This fits a line (degree-1 polynomial)\n",
    "#\n",
    "print(my_coeff)\n",
    "print('Intercept = {:.4f}'.format(my_coeff[1]))\n",
    "print('Slope = {:.4f}'.format(my_coeff[0]))\n"
   ]
  },
  {
   "cell_type": "code",
   "execution_count": 29,
   "metadata": {},
   "outputs": [
    {
     "name": "stdout",
     "output_type": "stream",
     "text": [
      " \n",
      "0.6721 x - 0.0002591\n"
     ]
    }
   ],
   "source": [
    "# The poly1d function uses the coefficients and creates a function of them\n",
    "#\n",
    "cal = np.poly1d(my_coeff)  # This makes a polynomial function from the coefficients\n",
    "print(np.poly1d(cal))\n"
   ]
  },
  {
   "cell_type": "code",
   "execution_count": 30,
   "metadata": {},
   "outputs": [
    {
     "data": {
      "image/png": "[encoded data removed]",
      "text/plain": [
       "<Figure size 720x576 with 1 Axes>"
      ]
     },
     "metadata": {
      "needs_background": "light"
     },
     "output_type": "display_data"
    }
   ],
   "source": [
    "# Now we can add a fitline\n",
    "#\n",
    "plt.figure(figsize=(10,8))\n",
    "plt.plot(sin_th_inc,sin_th_refr,'ro',label=\"Snells law data for plastic\")\n",
    "plt.plot(sin_th_inc,cal(sin_th_inc),'-',label=\"Linear trendline\")\n",
    "plt.grid(True)\n",
    "plt.xlabel(r'$\\sin(\\theta_i)$')\n",
    "plt.ylabel(r'$\\sin(\\theta_r)$')\n",
    "plt.title(\"Transformed data\")\n",
    "plt.legend();\n"
   ]
  },
  {
   "cell_type": "markdown",
   "metadata": {},
   "source": [
    "### Another example from optics lab - Michelson Na fringe-contrast nodes\n",
    "\n",
    "In the Michelson experiment, the interferometer pattern from a sodium discharge lamp shows bright yellow fringes.  The fringes come from the interference of light from two closely-spaced yellow emission lines. This pattern is strongest and clearest when the path length difference along the two beam arms is zero.  But as one mirror is moved with respect to the other, the fringes go through nodes and antinodes of contrast.  when the fringes are clearest, that is an antinode; when the fringes are most faint, that is a node.  The spacing of the nodes is inversely proportional to the wavenumber difference between the two lines.  \n",
    "\n",
    "Readings of the node positions are from a micrometer position of points that should be linearly spaced.  The average spacing is found by a line fit."
   ]
  },
  {
   "cell_type": "code",
   "execution_count": 31,
   "metadata": {},
   "outputs": [],
   "source": [
    "# Node locations, using extreme limits of where nodes might be, i.e., as far as I can tell\n",
    "# the first node lies between 15.354 and 15.243 mm.\n",
    "#\n",
    "Na_nodes_data = np.array([\n",
    "    [15.354,15.243],\n",
    "    [15.611,15.563],\n",
    "    [15.925,15.856],\n",
    "    [16.214,16.148],\n",
    "    [16.485,16.452],\n",
    "    [16.764,16.748],\n",
    "    [17.042,17.049],\n",
    "    [17.335,17.343],\n",
    "    [17.617,17.643],\n",
    "    [17.903,17.939],\n",
    "    [18.178,18.233],\n",
    "    [18.481,18.534],\n",
    "    [18.778,18.824]])"
   ]
  },
  {
   "cell_type": "markdown",
   "metadata": {},
   "source": [
    "To understand the statement below, you need to learn how indexing works in Python.  See **The Whirlwind Tour** (link at top) for more information."
   ]
  },
  {
   "cell_type": "code",
   "execution_count": 32,
   "metadata": {},
   "outputs": [
    {
     "name": "stdout",
     "output_type": "stream",
     "text": [
      "[15.2985 15.587  15.8905 16.181  16.4685 16.756  17.0455 17.339  17.63\n",
      " 17.921  18.2055 18.5075 18.801 ]\n"
     ]
    }
   ],
   "source": [
    "# Find the midpoints of the above pairs\n",
    "#\n",
    "Na_nodes = (Na_nodes_data[:,0]+Na_nodes_data[:,1])/2.0\n",
    "print(Na_nodes)"
   ]
  },
  {
   "cell_type": "code",
   "execution_count": 33,
   "metadata": {},
   "outputs": [
    {
     "data": {
      "text/plain": [
       "array([-6, -5, -4, -3, -2, -1,  0,  1,  2,  3,  4,  5,  6])"
      ]
     },
     "execution_count": 33,
     "metadata": {},
     "output_type": "execute_result"
    }
   ],
   "source": [
    "# Assign a number to each node.  But want the center node to be 0\n",
    "# The size attribute gives the number of elements in the array.\n",
    "\n",
    "node_num = np.arange(Na_nodes.size)-Na_nodes.size//2\n",
    "node_num"
   ]
  },
  {
   "cell_type": "markdown",
   "metadata": {},
   "source": [
    "### Make a plot"
   ]
  },
  {
   "cell_type": "code",
   "execution_count": 34,
   "metadata": {},
   "outputs": [
    {
     "data": {
      "image/png": "[encoded data removed]",
      "text/plain": [
       "<Figure size 720x576 with 1 Axes>"
      ]
     },
     "metadata": {
      "needs_background": "light"
     },
     "output_type": "display_data"
    }
   ],
   "source": [
    "plt.figure(figsize=(10,8))\n",
    "plt.plot(node_num,Na_nodes,'ro',label=\"Data\")\n",
    "plt.grid(True)\n",
    "plt.xlabel('Node number')\n",
    "plt.ylabel('Mirror position (mm)')\n",
    "plt.title('Na node positions')\n",
    "plt.legend();"
   ]
  },
  {
   "cell_type": "markdown",
   "metadata": {},
   "source": [
    "## Fit a line using LMFit\n",
    "\n",
    "LMFit is a very powerful line fitting package that does an especially good job handing data and fit uncertainties.  You should get used to using it because even though running a simple line fit is a little bit more complicated than what is shown above, you can also run much more elaborate fits by making only a few adjustments to the basic procedure.\n",
    "\n",
    "### Models: the basis of LMFit\n",
    "\n",
    "LMFit provides a large number of pre-made model functions with predefined parameters. \n",
    "\n",
    "To **call a pre-made model**, use:\n",
    "\n",
    "- `from lmfit.models import ModelFromList` \n",
    "\n",
    "where `ModelFromList` may be one or more of the following.  The actual functions and the names of the parameters are also given below.\n",
    "\n",
    "  - `LinearModel()`\n",
    "     - $f(x;m,b)=mx+b$\n",
    "     - m is called 'slope';  b= 'intercept'\n",
    "  - `QuadraticModel()`\n",
    "     - $f(x;a,b,c)=ax^2+bx+c$\n",
    "     - parameters called 'a', 'b', 'c'\n",
    "  - `PolynomialModel(N)`\tpolynomial of order N\n",
    "     - $f(x,;c_0,c_1,c_2,…c_N)=c_0+c_1 x+c_2 x^2+⋯+c_N x^N$\n",
    "     - parameters called c0, c1, c2, … cN\n",
    "\n",
    "Think of this as bringing in these as the equivalent of a user-defined function.  To have more than one, you would use:\n",
    "\n",
    "- `from lmfit.models import LinearModel, QuadraticModel`\n",
    "\n",
    "There are many more models available, such as peaks, power-law, and logarithmic functions, etc. You can also create and use your own model.  To see examples of these see the extensive examples created by Prof. Olmstead in another notebook.\n",
    "\n",
    "Then you must creat an instance of the model that has been imported:\n",
    "\n",
    "- `line0 = LinearModel()` to fit a line to your data\n",
    "\n",
    "To run the fit, you must first establish starting points for the fit parameters.  For line, polynomials and other realtively simple functions, there is an additional method in the model called `guess()`.  To use this, create parameters with starting values by this line:\n",
    "\n",
    "- `param_guess = line0.guess(ydata, x=xdata)` where `ydata` is the y-value array and `xdata` is the x-value array. \n",
    "\n",
    "Then, to run the fit, you invoke the `fit()` method in the model, and save the results into a **Parameters** object:\n",
    "\n",
    "- `line_fit0 = line0.fit(ydata, param_guess, x=xdata)` makes the fit and saves the results.\n",
    "\n",
    "Finally to obtain the values of the parameters, information about how good the fit was, and to make a plot of the fit and data, run the `fit_report()` and `plot()` methods:\n",
    "\n",
    "- `print(line_fit0.fit_report())` to print out the fit results.\n",
    "- `line_fit0.plot()` to make a quick plot.\n",
    "\n",
    "Here is everything needed to do this on the data treated above:"
   ]
  },
  {
   "cell_type": "code",
   "execution_count": 35,
   "metadata": {},
   "outputs": [],
   "source": [
    "# Import the model.\n",
    "# You only do this once in a notebook\n",
    "from lmfit.models import LinearModel"
   ]
  },
  {
   "cell_type": "code",
   "execution_count": 36,
   "metadata": {},
   "outputs": [
    {
     "data": {
      "text/html": [
       "<h2> Model</h2> Model(linear) <h2>Fit Statistics</h2><table><tr><td>fitting method</td><td>leastsq</td><td></td></tr><tr><td># function evals</td><td>3</td><td></td></tr><tr><td># data points</td><td>13</td><td></td></tr><tr><td># variables</td><td>2</td><td></td></tr><tr><td>chi-square</td><td> 2.3827e-04</td><td></td></tr><tr><td>reduced chi-square</td><td> 2.1661e-05</td><td></td></tr><tr><td>Akaike info crit.</td><td>-137.791838</td><td></td></tr><tr><td>Bayesian info crit.</td><td>-136.661939</td><td></td></tr></table><h2>Variables</h2><table><tr><th> name </th><th> value </th><th> standard error </th><th> relative error </th><th> initial value </th><th> min </th><th> max </th><th> vary </th></tr><tr><td> slope </td><td>  0.29122802 </td><td>  3.4499e-04 </td><td> (0.12%) </td><td> 0.2912280219780219 </td><td>        -inf </td><td>         inf </td><td> True </td></tr><tr><td> intercept </td><td>  17.0485385 </td><td>  0.00129082 </td><td> (0.01%) </td><td> 17.048538461538456 </td><td>        -inf </td><td>         inf </td><td> True </td></tr></table>"
      ],
      "text/plain": [
       "<lmfit.model.ModelResult at 0x17bc1d67358>"
      ]
     },
     "execution_count": 36,
     "metadata": {},
     "output_type": "execute_result"
    }
   ],
   "source": [
    "# Make an instance of the model\n",
    "line0 = LinearModel()\n",
    "\n",
    "# Create the parameters and guess their starting values\n",
    "param_guess = line0.guess(Na_nodes, x=node_num)\n",
    "\n",
    "# Fit the line, and print the results\n",
    "line_fit0 = line0.fit(Na_nodes, param_guess, x=node_num)\n",
    "line_fit0"
   ]
  },
  {
   "cell_type": "markdown",
   "metadata": {},
   "source": [
    "### Include uncertainties (error bars) \n",
    "\n",
    "LMFit can easily handle uncertainties in the data set to weight the fit.  From above, we have ranges of where the notes may lie from half the range of each node location.  We can use these to improve our knowledge of the fit quality."
   ]
  },
  {
   "cell_type": "code",
   "execution_count": 37,
   "metadata": {},
   "outputs": [
    {
     "name": "stdout",
     "output_type": "stream",
     "text": [
      "[0.0555 0.024  0.0345 0.033  0.0165 0.008  0.0035 0.004  0.013  0.018\n",
      " 0.0275 0.0265 0.023 ]\n"
     ]
    }
   ],
   "source": [
    "# Find the uncertainty in the node locations from the ranges\n",
    "#\n",
    "Na_nodes_unc = abs(Na_nodes_data[:,0]-Na_nodes_data[:,1])/2.0\n",
    "print(Na_nodes_unc)"
   ]
  },
  {
   "cell_type": "markdown",
   "metadata": {},
   "source": [
    "Now modify the `fit()` call with a `weights` array equal to the inverse of the uncertanity."
   ]
  },
  {
   "cell_type": "code",
   "execution_count": 38,
   "metadata": {},
   "outputs": [
    {
     "data": {
      "text/html": [
       "<h2> Model</h2> Model(linear) <h2>Fit Statistics</h2><table><tr><td>fitting method</td><td>leastsq</td><td></td></tr><tr><td># function evals</td><td>6</td><td></td></tr><tr><td># data points</td><td>13</td><td></td></tr><tr><td># variables</td><td>2</td><td></td></tr><tr><td>chi-square</td><td> 0.55012039</td><td></td></tr><tr><td>reduced chi-square</td><td> 0.05001094</td><td></td></tr><tr><td>Akaike info crit.</td><td>-37.1133773</td><td></td></tr><tr><td>Bayesian info crit.</td><td>-35.9834786</td><td></td></tr></table><h2>Variables</h2><table><tr><th> name </th><th> value </th><th> standard error </th><th> relative error </th><th> initial value </th><th> min </th><th> max </th><th> vary </th></tr><tr><td> slope </td><td>  0.29152915 </td><td>  3.9497e-04 </td><td> (0.14%) </td><td> 0.2912280219780219 </td><td>        -inf </td><td>         inf </td><td> True </td></tr><tr><td> intercept </td><td>  17.0466962 </td><td>  5.4615e-04 </td><td> (0.00%) </td><td> 17.048538461538456 </td><td>        -inf </td><td>         inf </td><td> True </td></tr></table><h2>Correlations (unreported correlations are < 0.100)</h2><table><tr><td>slope</td><td>intercept</td><td>-0.2704</td></tr></table>"
      ],
      "text/plain": [
       "<lmfit.model.ModelResult at 0x17bc1d67438>"
      ]
     },
     "execution_count": 38,
     "metadata": {},
     "output_type": "execute_result"
    }
   ],
   "source": [
    "# Fit the line, and print the results with weights\n",
    "line_fit1 = line0.fit(Na_nodes, param_guess, x=node_num, weights=1/Na_nodes_unc)\n",
    "line_fit1"
   ]
  },
  {
   "cell_type": "markdown",
   "metadata": {},
   "source": [
    "Finally, make a plot."
   ]
  },
  {
   "cell_type": "code",
   "execution_count": 39,
   "metadata": {},
   "outputs": [
    {
     "data": {
      "image/png": "[encoded data removed]",
      "text/plain": [
       "<Figure size 432x432 with 2 Axes>"
      ]
     },
     "metadata": {
      "needs_background": "light"
     },
     "output_type": "display_data"
    }
   ],
   "source": [
    "line_fit1.plot()\n",
    "plt.xlabel('Node Number')\n",
    "plt.ylabel('Mirror position (mm)');"
   ]
  },
  {
   "cell_type": "markdown",
   "metadata": {},
   "source": [
    "Notice that if you do not include the weights, you do not get error bars on the plot.  `line_fit0` did not include weights:"
   ]
  },
  {
   "cell_type": "code",
   "execution_count": 40,
   "metadata": {},
   "outputs": [
    {
     "data": {
      "image/png": "[encoded data removed]",
      "text/plain": [
       "<Figure size 432x432 with 2 Axes>"
      ]
     },
     "metadata": {
      "needs_background": "light"
     },
     "output_type": "display_data"
    }
   ],
   "source": [
    "line_fit0.plot()\n",
    "plt.xlabel('Node Number')\n",
    "plt.ylabel('Mirror position (mm)');"
   ]
  },
  {
   "cell_type": "code",
   "execution_count": null,
   "metadata": {},
   "outputs": [],
   "source": []
  }
 ],
 "metadata": {
  "kernelspec": {
   "display_name": "Python 3 (ipykernel)",
   "language": "python",
   "name": "python3"
  },
  "language_info": {
   "codemirror_mode": {
    "name": "ipython",
    "version": 3
   },
   "file_extension": ".py",
   "mimetype": "text/x-python",
   "name": "python",
   "nbconvert_exporter": "python",
   "pygments_lexer": "ipython3",
   "version": "3.9.13"
  }
 },
 "nbformat": 4,
 "nbformat_minor": 4
}
