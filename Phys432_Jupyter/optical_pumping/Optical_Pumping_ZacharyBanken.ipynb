{
 "cells": [
  {
   "cell_type": "markdown",
   "metadata": {
    "tags": []
   },
   "source": [
    "# Optical Pumping Lab\n",
    "##### Phys 432 Spr 23\n",
    "### Zachary Banken"
   ]
  },
  {
   "cell_type": "code",
   "execution_count": 1,
   "metadata": {},
   "outputs": [],
   "source": [
    "# Run this cell with Shift-Enter, and wait until the \n",
    "# asterisk changes to a number, i.e., [*] becomes [1]\n",
    "import numpy as np\n",
    "import scipy.constants as const\n",
    "import uncertainties as unc\n",
    "import matplotlib.pyplot as plt\n",
    "import pandas as pd\n",
    "%matplotlib inline"
   ]
  },
  {
   "cell_type": "code",
   "execution_count": 2,
   "metadata": {},
   "outputs": [],
   "source": [
    "from lmfit.models import LinearModel\n",
    "line = LinearModel()"
   ]
  },
  {
   "cell_type": "code",
   "execution_count": 3,
   "metadata": {},
   "outputs": [],
   "source": [
    "def line_fit_and_plot(xdata, ydata, yerr=None, model=LinearModel(), \\\n",
    "                      title='', xlabel='', ylabel='', do_plot = True,):\n",
    "    '''\n",
    "    Fit a line or curve, and plot/show the fit results.\n",
    "    The function returns a parameters object with the fit parameters\n",
    "    '''\n",
    "    param_guess = model.guess(ydata, x=xdata)\n",
    "    if (yerr is None):\n",
    "        model_fit = model.fit(ydata, param_guess, x=xdata)\n",
    "    else:\n",
    "        model_fit = model.fit(ydata, param_guess, x=xdata, weights=1/yerr)\n",
    "    \n",
    "    if do_plot:\n",
    "        \n",
    "        print(model_fit.fit_report(show_correl=False))\n",
    "        model_fit.plot()\n",
    "        plt.title(title)\n",
    "        plt.xlabel(xlabel)\n",
    "        plt.ylabel(ylabel)\n",
    "    return model_fit.params\n",
    "\n",
    "## This function use the Uncertainties function to make an uncertainty object\n",
    "\n",
    "def get_uslope(params):\n",
    "    return unc.ufloat(params['slope'].value, params['slope'].stderr, 'slope')"
   ]
  },
  {
   "cell_type": "code",
   "execution_count": 4,
   "metadata": {},
   "outputs": [],
   "source": [
    "# import \n",
    "Rb85_freq_offset = pd.read_csv('Rb85_freq_offset.csv',header='infer')\n",
    "Rb87_freq_offset = pd.read_csv('Rb87_freq_offset.csv',header='infer',skiprows=1)"
   ]
  },
  {
   "cell_type": "code",
   "execution_count": 5,
   "metadata": {},
   "outputs": [
    {
     "name": "stdout",
     "output_type": "stream",
     "text": [
      "Excess population: 0.06 ppm\n"
     ]
    }
   ],
   "source": [
    "# Excercise 1\n",
    "\n",
    "muB = const.physical_constants[\"Bohr magneton\"][0]\n",
    "\n",
    "H0 = (0.5 / 10_000)\n",
    "\n",
    "# Assuming gF = 1/2, delta mF = 1\n",
    "deltaE = 0.5 * muB * H0 * 1\n",
    "\n",
    "frac_excess_pop = (deltaE / (const.k * 293)) * 1e6\n",
    "\n",
    "print('Excess population:',round(frac_excess_pop,2), 'ppm')"
   ]
  },
  {
   "cell_type": "markdown",
   "metadata": {
    "tags": []
   },
   "source": [
    "## Estimate the experimental g-factor for both isotopes and the ratio of these.\n"
   ]
  },
  {
   "cell_type": "code",
   "execution_count": 6,
   "metadata": {},
   "outputs": [
    {
     "name": "stdout",
     "output_type": "stream",
     "text": [
      "Estimated g_F (Rb 85): 0.32865958126699824\n",
      "Estimated g_F (Rb 87): 0.49870519070514074\n",
      "Estimated ratio (g_F Rb 85)/(g_F Rb 87): 0.6590257879656162\n"
     ]
    }
   ],
   "source": [
    "## g-factor estimation \n",
    "\n",
    "## h nu_F = g_F mu_B H_0 delta_m_F\n",
    "\n",
    "nu_F_85 = 230e3 # approximate resonance frequency (Hz)\n",
    "nu_F_87 = 349e3\n",
    "H0 = (0.5 / 10_000) ## half a gauss\n",
    "delta_m_F = 1\n",
    "h = const.h\n",
    "\n",
    "g_F_estimate_85 = (h * nu_F_85) / (muB * H0 * delta_m_F)\n",
    "g_F_estimate_87 = (h * nu_F_87) / (muB * H0 * delta_m_F)\n",
    "\n",
    "print('Estimated g_F (Rb 85):',g_F_estimate_85)\n",
    "print('Estimated g_F (Rb 87):',g_F_estimate_87)\n",
    "print('Estimated ratio (g_F Rb 85)/(g_F Rb 87):',g_F_estimate_85 / g_F_estimate_87)"
   ]
  },
  {
   "cell_type": "markdown",
   "metadata": {},
   "source": [
    "## Make plots with fits (& uncertainty) of offset voltage vs. frequency (method 1)\n"
   ]
  },
  {
   "cell_type": "code",
   "execution_count": 7,
   "metadata": {},
   "outputs": [
    {
     "name": "stdout",
     "output_type": "stream",
     "text": [
      "frequency at 0 offset (Rb85):  229.72318551480748  kHz\n"
     ]
    }
   ],
   "source": [
    "# Frequencey at zero offset\n",
    "\n",
    "Rb85_inverse_fit = np.polyfit(Rb85_freq_offset['Offset (V)'], Rb85_freq_offset['Frequency (kHz)'],  1)\n",
    "Rb85_inverse_fit_0 = np.polyval(Rb85_inverse_fit,0)\n",
    "print('frequency at 0 offset (Rb85): ',Rb85_inverse_fit_0,' kHz')"
   ]
  },
  {
   "cell_type": "code",
   "execution_count": 8,
   "metadata": {},
   "outputs": [
    {
     "data": {
      "text/plain": [
       "Text(0.5, 0, 'Frequency (kHz)')"
      ]
     },
     "execution_count": 8,
     "metadata": {},
     "output_type": "execute_result"
    },
    {
     "data": {
      "image/png": "[encoded data removed]",
      "text/plain": [
       "<Figure size 720x360 with 1 Axes>"
      ]
     },
     "metadata": {
      "needs_background": "light"
     },
     "output_type": "display_data"
    }
   ],
   "source": [
    "# Resonant frequency plot\n",
    "plt.figure(figsize = (10,5))\n",
    "\n",
    "plt.scatter(Rb85_freq_offset['Frequency (kHz)'], Rb85_freq_offset['Offset (V)'],label='data')\n",
    "plt.title('H1 Resonant Frequency (85Rb)')\n",
    "plt.ylabel('Offset (V)')\n",
    "plt.xlabel('Frequency (kHz)')\n",
    "\n",
    "# Offset at zero frequency\n",
    "\n"
   ]
  },
  {
   "cell_type": "code",
   "execution_count": 9,
   "metadata": {},
   "outputs": [
    {
     "name": "stdout",
     "output_type": "stream",
     "text": [
      "[[Model]]\n",
      "    Model(linear)\n",
      "[[Fit Statistics]]\n",
      "    # fitting method   = leastsq\n",
      "    # function evals   = 3\n",
      "    # data points      = 27\n",
      "    # variables        = 2\n",
      "    chi-square         = 0.02613162\n",
      "    reduced chi-square = 0.00104526\n",
      "    Akaike info crit   = -183.392040\n",
      "    Bayesian info crit = -180.800366\n",
      "[[Variables]]\n",
      "    slope:      0.01758782 +/- 8.6293e-05 (0.49%) (init = 0.01758782)\n",
      "    intercept: -4.04071752 +/- 0.01778731 (0.44%) (init = -4.040718)\n"
     ]
    },
    {
     "data": {
      "text/html": [
       "<table><tr><th> name </th><th> value </th><th> standard error </th><th> relative error </th><th> initial value </th><th> min </th><th> max </th><th> vary </th></tr><tr><td> slope </td><td>  0.01758782 </td><td>  8.6293e-05 </td><td> (0.49%) </td><td> 0.01758781943902604 </td><td>        -inf </td><td>         inf </td><td> True </td></tr><tr><td> intercept </td><td> -4.04071752 </td><td>  0.01778731 </td><td> (0.44%) </td><td> -4.040717518192371 </td><td>        -inf </td><td>         inf </td><td> True </td></tr></table>"
      ],
      "text/plain": [
       "Parameters([('slope', <Parameter 'slope', value=0.01758781943902604 +/- 8.63e-05, bounds=[-inf:inf]>), ('intercept', <Parameter 'intercept', value=-4.040717518192371 +/- 0.0178, bounds=[-inf:inf]>)])"
      ]
     },
     "execution_count": 9,
     "metadata": {},
     "output_type": "execute_result"
    },
    {
     "data": {
      "image/png": "[encoded data removed]",
      "text/plain": [
       "<Figure size 432x432 with 2 Axes>"
      ]
     },
     "metadata": {
      "needs_background": "light"
     },
     "output_type": "display_data"
    }
   ],
   "source": [
    "Rb85_fit = line_fit_and_plot(Rb85_freq_offset['Frequency (kHz)'], Rb85_freq_offset['Offset (V)'], title = 'Rb 85 Resonant frequency',\\\n",
    "                            xlabel='Frequency (kHz)', ylabel='Offset (V)')\n",
    "\n",
    "# Print the results\n",
    "Rb85_fit"
   ]
  },
  {
   "cell_type": "code",
   "execution_count": 10,
   "metadata": {},
   "outputs": [
    {
     "name": "stdout",
     "output_type": "stream",
     "text": [
      "Offset at fres = 0: (Rb85) -4.040717518192371 V\n"
     ]
    }
   ],
   "source": [
    "print('Offset at fres = 0: (Rb85)',np.polyval(Rb85_fit,0), 'V')"
   ]
  },
  {
   "cell_type": "code",
   "execution_count": 11,
   "metadata": {},
   "outputs": [
    {
     "name": "stdout",
     "output_type": "stream",
     "text": [
      "frequency at 0 offset (Rb85):  345.96839826839835  kHz\n"
     ]
    }
   ],
   "source": [
    "# Frequencey at zero offset\n",
    "\n",
    "Rb87_inverse_fit = np.polyfit(Rb87_freq_offset['Offset (V)'], Rb87_freq_offset['Frequency (kHz)'],  1)\n",
    "Rb87_inverse_fit_0 = np.polyval(Rb87_inverse_fit,0)\n",
    "print('frequency at 0 offset (Rb85): ',Rb87_inverse_fit_0,' kHz')"
   ]
  },
  {
   "cell_type": "code",
   "execution_count": 12,
   "metadata": {},
   "outputs": [
    {
     "data": {
      "text/plain": [
       "<matplotlib.legend.Legend at 0x7fb998bf5a00>"
      ]
     },
     "execution_count": 12,
     "metadata": {},
     "output_type": "execute_result"
    },
    {
     "data": {
      "image/png": "[encoded data removed]",
      "text/plain": [
       "<Figure size 720x360 with 1 Axes>"
      ]
     },
     "metadata": {
      "needs_background": "light"
     },
     "output_type": "display_data"
    }
   ],
   "source": [
    "# Resonant frequency plot\n",
    "plt.figure(figsize = (10,5))\n",
    "\n",
    "Rb85_freq_offset = pd.read_csv('Rb85_freq_offset.csv', header = 'infer')\n",
    "Rb87_freq_offset = pd.read_csv('Rb87_freq_offset.csv', header = 'infer', skiprows=1)\n",
    "\n",
    "plt.scatter(Rb87_freq_offset['Frequency (kHz)'], Rb87_freq_offset['Offset (V)'],  label = 'Rb87') \n",
    "\n",
    "plt.title('H1 Resonant Frequency (Rb87)')\n",
    "plt.ylabel('Offset (V)')\n",
    "plt.xlabel('Frequency (kHz)')\n",
    "\n",
    "plt.legend()\n"
   ]
  },
  {
   "cell_type": "code",
   "execution_count": 13,
   "metadata": {},
   "outputs": [
    {
     "name": "stdout",
     "output_type": "stream",
     "text": [
      "[[Model]]\n",
      "    Model(linear)\n",
      "[[Fit Statistics]]\n",
      "    # fitting method   = leastsq\n",
      "    # function evals   = 3\n",
      "    # data points      = 21\n",
      "    # variables        = 2\n",
      "    chi-square         = 0.01764178\n",
      "    reduced chi-square = 9.2851e-04\n",
      "    Akaike info crit   = -144.722161\n",
      "    Bayesian info crit = -142.633116\n",
      "[[Variables]]\n",
      "    slope:      0.01169027 +/- 6.4205e-05 (0.55%) (init = 0.01169027)\n",
      "    intercept: -4.04503767 +/- 0.01799728 (0.44%) (init = -4.045038)\n"
     ]
    },
    {
     "data": {
      "text/html": [
       "<table><tr><th> name </th><th> value </th><th> standard error </th><th> relative error </th><th> initial value </th><th> min </th><th> max </th><th> vary </th></tr><tr><td> slope </td><td>  0.01169027 </td><td>  6.4205e-05 </td><td> (0.55%) </td><td> 0.011690272607281083 </td><td>        -inf </td><td>         inf </td><td> True </td></tr><tr><td> intercept </td><td> -4.04503767 </td><td>  0.01799728 </td><td> (0.44%) </td><td> -4.045037674372741 </td><td>        -inf </td><td>         inf </td><td> True </td></tr></table>"
      ],
      "text/plain": [
       "Parameters([('slope', <Parameter 'slope', value=0.011690272607281083 +/- 6.42e-05, bounds=[-inf:inf]>), ('intercept', <Parameter 'intercept', value=-4.045037674372741 +/- 0.018, bounds=[-inf:inf]>)])"
      ]
     },
     "execution_count": 13,
     "metadata": {},
     "output_type": "execute_result"
    },
    {
     "data": {
      "image/png": "[encoded data removed]",
      "text/plain": [
       "<Figure size 432x432 with 2 Axes>"
      ]
     },
     "metadata": {
      "needs_background": "light"
     },
     "output_type": "display_data"
    }
   ],
   "source": [
    "Rb87_fit = line_fit_and_plot(Rb87_freq_offset['Frequency (kHz)'], Rb87_freq_offset['Offset (V)'], title = 'H1 Resonant Frequency (Rb87)', \\\n",
    "                            xlabel = 'Frequency (kHz)', ylabel = 'Offset (V)')\n",
    "\n",
    "# Print the results\n",
    "Rb87_fit"
   ]
  },
  {
   "cell_type": "code",
   "execution_count": 14,
   "metadata": {},
   "outputs": [
    {
     "name": "stdout",
     "output_type": "stream",
     "text": [
      "Offset at fres = 0 (Rb87): -4.045037674372741 V\n"
     ]
    }
   ],
   "source": [
    "#### Used in the experiment for inverted population lifetime\n",
    "\n",
    "print('Offset at fres = 0 (Rb87):',np.polyval(Rb87_fit,0), 'V')"
   ]
  },
  {
   "cell_type": "markdown",
   "metadata": {},
   "source": [
    "## Plot of Rabi frequency squared vs. Vpp squared (method 3)"
   ]
  },
  {
   "cell_type": "code",
   "execution_count": 15,
   "metadata": {},
   "outputs": [],
   "source": [
    "# Import\n",
    "\n",
    "Rb85_rabi = pd.read_csv('pumping data - 85rabi.csv', header = 'infer')\n",
    "Rb87_rabi = pd.read_csv('pumping data - 87rabi.csv', header = 'infer')"
   ]
  },
  {
   "cell_type": "code",
   "execution_count": 16,
   "metadata": {},
   "outputs": [
    {
     "name": "stdout",
     "output_type": "stream",
     "text": [
      "[[Model]]\n",
      "    Model(linear)\n",
      "[[Fit Statistics]]\n",
      "    # fitting method   = leastsq\n",
      "    # function evals   = 3\n",
      "    # data points      = 5\n",
      "    # variables        = 2\n",
      "    chi-square         = 1.5154e+09\n",
      "    reduced chi-square = 5.0514e+08\n",
      "    Akaike info crit   = 101.647583\n",
      "    Bayesian info crit = 100.866459\n",
      "[[Variables]]\n",
      "    slope:      291565.639 +/- 1183.11395 (0.41%) (init = 291565.6)\n",
      "    intercept:  1732854.17 +/- 44337.9754 (2.56%) (init = 1732854)\n"
     ]
    },
    {
     "data": {
      "image/png": "[encoded data removed]",
      "text/plain": [
       "<Figure size 432x432 with 2 Axes>"
      ]
     },
     "metadata": {
      "needs_background": "light"
     },
     "output_type": "display_data"
    }
   ],
   "source": [
    "# Calculate frequency\n",
    "\n",
    "## Note: I chose to discard the first 5 data points, since they appeared to have \n",
    "# a different slope than the rest of the data. When using all the data points, the\n",
    "# intercept was found to be negative, so there could be an issue with the first points\n",
    "\n",
    "Rb85_rabi = Rb85_rabi[5:]\n",
    "Rb87_rabi['Frequency (Hz)'] = (Rb87_rabi['# Periods'] / Rb87_rabi['in _ ms']) * 1e3\n",
    "Rb85_rabi['Frequency (Hz)'] = (Rb85_rabi['# Periods in 4 ms'] / 4) * 1e3\n",
    "\n",
    "# Plot and fit data\n",
    "Rb85_rabi_fit = line_fit_and_plot(Rb85_rabi['Vpp']**2, Rb85_rabi['Frequency (Hz)']**2, title = 'Rabi frequency (Rb85)', xlabel = 'H1 Amplitude^2 (Vpp^2)',\\\n",
    "                                 ylabel = 'Rabi frequency^2 (Hz^2)')\n"
   ]
  },
  {
   "cell_type": "code",
   "execution_count": 17,
   "metadata": {},
   "outputs": [
    {
     "name": "stdout",
     "output_type": "stream",
     "text": [
      "[[Model]]\n",
      "    Model(linear)\n",
      "[[Fit Statistics]]\n",
      "    # fitting method   = leastsq\n",
      "    # function evals   = 3\n",
      "    # data points      = 13\n",
      "    # variables        = 2\n",
      "    chi-square         = 1.0822e+14\n",
      "    reduced chi-square = 9.8386e+12\n",
      "    Akaike info crit   = 390.753612\n",
      "    Bayesian info crit = 391.883511\n",
      "[[Variables]]\n",
      "    slope:      504798.622 +/- 32984.2629 (6.53%) (init = 504798.6)\n",
      "    intercept:  2938726.33 +/- 1937913.22 (65.94%) (init = 2938726)\n"
     ]
    },
    {
     "data": {
      "image/png": "[encoded data removed]",
      "text/plain": [
       "<Figure size 432x432 with 2 Axes>"
      ]
     },
     "metadata": {
      "needs_background": "light"
     },
     "output_type": "display_data"
    }
   ],
   "source": [
    "Rb87_rabi_fit = line_fit_and_plot(Rb87_rabi['Vpp']**2, Rb87_rabi['Frequency (Hz)']**2, title = 'Rabi frequency (Rb87)', xlabel = 'H1 Amplitude^2 (Vpp^2)',\\\n",
    "                                 ylabel = 'Rabi frequency^2 (Hz^2)')"
   ]
  },
  {
   "cell_type": "markdown",
   "metadata": {},
   "source": [
    "## Calculation of theoretical g-factors for both isotopes."
   ]
  },
  {
   "cell_type": "markdown",
   "metadata": {
    "tags": []
   },
   "source": [
    "#### Theoretical"
   ]
  },
  {
   "cell_type": "code",
   "execution_count": 18,
   "metadata": {},
   "outputs": [
    {
     "name": "stdout",
     "output_type": "stream",
     "text": [
      "Theoretical g_J (Rb 85): 2.0\n",
      "Theoretical g_J (Rb 87): 2.0\n",
      "\n",
      "\n",
      "Theoretical g_F (Rb 85): 0.3333333333333333\n",
      "Theoretical g_F (Rb 87): 0.5\n"
     ]
    }
   ],
   "source": [
    "## theoretical g-factor calculation, ignoring g_I contribution\n",
    "\n",
    "# 2 S 1/2 state -> J = 1/2, L = 0, S = 0, I = 3/2, F = 2\n",
    "\n",
    "J = (1/2)\n",
    "F_85 = 3\n",
    "F_87 = 2\n",
    "I_85 = (5/2)\n",
    "I_87 = (3/2)\n",
    "S = (1/2)\n",
    "L = 0\n",
    "\n",
    "def calc_g_factors(L,S,I,F,J):\n",
    "    g_J = 1 + (J * (J + 1) + S * (S + 1) - L * (L + 1)) / (2 * J * (J+1))\n",
    "    g_F = g_J * (F * (F + 1) + J * (J + 1) - I * (I + 1)) / (2 * F * (F + 1))\n",
    "    return [g_J, g_F]\n",
    "\n",
    "g_F_85 = calc_g_factors(L,S,I_85,F_85,J)[1]\n",
    "g_J_85 = calc_g_factors(L,S,I_85,F_85,J)[0]\n",
    "g_F_87 = calc_g_factors(L,S,I_87,F_87,J)[1]\n",
    "g_J_87 = calc_g_factors(L,S,I_87,F_87,J)[0]\n",
    "print('Theoretical g_J (Rb 85):', g_J_85)\n",
    "print('Theoretical g_J (Rb 87):', g_J_87)\n",
    "print('\\n')\n",
    "print('Theoretical g_F (Rb 85):', g_F_85)\n",
    "print('Theoretical g_F (Rb 87):', g_F_87)\n"
   ]
  },
  {
   "cell_type": "markdown",
   "metadata": {},
   "source": [
    "## Calculation of experimental g factor from the offset measurement, with uncertainty."
   ]
  },
  {
   "cell_type": "code",
   "execution_count": 19,
   "metadata": {},
   "outputs": [
    {
     "name": "stdout",
     "output_type": "stream",
     "text": [
      "B Earth (T) (5.03+/-0.25)e-05\n",
      "g_F (Rb 85): 0.326+/-0.016\n",
      "g_F (Rb 87): 0.491+/-0.024\n"
     ]
    }
   ],
   "source": [
    "B_earth_array = np.array([0.5045, 0.5085, 0.5060, 0.476, 0.4740, 0.5495]) / 10_000 # T \n",
    "B_earth = unc.ufloat(np.mean(B_earth_array),np.std(B_earth_array), 'B_earth')\n",
    "## ^^ Note that B_earth is the largest source of uncertainty\n",
    "\n",
    "print(\"B Earth (T)\", B_earth)\n",
    "\n",
    "g_F_85_offset = (h * Rb85_inverse_fit_0 * 1e3) / (muB * B_earth * delta_m_F)\n",
    "g_F_87_offset = (h * Rb87_inverse_fit_0 * 1e3) / (muB * B_earth * delta_m_F)\n",
    "\n",
    "print('g_F (Rb 85):',g_F_85_offset)\n",
    "print('g_F (Rb 87):',g_F_87_offset)\n"
   ]
  },
  {
   "cell_type": "markdown",
   "metadata": {},
   "source": [
    "## Calculation of g factors from Rabi frequency maximum response, with uncertainty"
   ]
  },
  {
   "cell_type": "code",
   "execution_count": 20,
   "metadata": {},
   "outputs": [
    {
     "name": "stdout",
     "output_type": "stream",
     "text": [
      "g_F (Rb 85): 0.335+/-0.017\n"
     ]
    }
   ],
   "source": [
    "import uncertainties.umath as um\n",
    "\n",
    "## Omega^2 = omega_1^2 + (omega - omega_0)^2\n",
    "# intercept = (omega - omega_0)^2\n",
    "# hbar * omega_0 = muB * g_J * H0 ???? g_F\n",
    "\n",
    "hbar = const.hbar\n",
    "\n",
    "\n",
    "omega_85 = 2 * np.pi * 236.0e3\n",
    "\n",
    "intercept_85_unc = unc.ufloat(Rb85_rabi_fit['intercept'].value,Rb85_rabi_fit['intercept'].stderr)\n",
    "#print(intercept_85_unc)\n",
    "omega_0_85 = omega_85 - um.sqrt(intercept_85_unc)\n",
    "\n",
    "g_F_85_rabi = (hbar * omega_0_85) / (muB * B_earth)\n",
    "\n",
    "\n",
    "print('g_F (Rb 85):',g_F_85_rabi)\n",
    "\n"
   ]
  },
  {
   "cell_type": "code",
   "execution_count": 21,
   "metadata": {},
   "outputs": [
    {
     "name": "stdout",
     "output_type": "stream",
     "text": [
      "g_F (Rb 87): 0.505+/-0.025\n"
     ]
    }
   ],
   "source": [
    "\n",
    "omega_87 = 2 * np.pi * 356.1e3\n",
    "\n",
    "intercept_87_unc = unc.ufloat(Rb87_rabi_fit['intercept'].value, Rb87_rabi_fit['intercept'].stderr)\n",
    "\n",
    "omega_0_87 = omega_87 - um.sqrt(intercept_87_unc)\n",
    "\n",
    "g_F_87_rabi = (hbar * omega_0_87) / (muB * B_earth)\n",
    "\n",
    "print('g_F (Rb 87):',g_F_87_rabi)"
   ]
  },
  {
   "cell_type": "markdown",
   "metadata": {
    "tags": []
   },
   "source": [
    "## Ratio of g-factors from all methods, with uncertainty."
   ]
  },
  {
   "cell_type": "code",
   "execution_count": 22,
   "metadata": {},
   "outputs": [
    {
     "name": "stdout",
     "output_type": "stream",
     "text": [
      "Ratio of g-factors from all methods, Rb 85 / Rb 87:\n",
      "\n",
      "estimate \t 0.6590257879656162\n",
      "theoretical \t 0.6666666666666666\n",
      "from offset \t 0.664000488670618+/-0\n",
      "from rabi \t 0.66265+/-0.00017\n"
     ]
    }
   ],
   "source": [
    "print('Ratio of g-factors from all methods, Rb 85 / Rb 87:\\n')\n",
    "\n",
    "estimate_ratio = g_F_estimate_85 / g_F_estimate_87\n",
    "\n",
    "print('estimate \\t', estimate_ratio)\n",
    "\n",
    "theoretical_ratio = g_F_85 / g_F_87\n",
    "\n",
    "print('theoretical \\t', theoretical_ratio)     \n",
    "      \n",
    "offset_ratio = g_F_85_offset / g_F_87_offset\n",
    "\n",
    "print('from offset \\t', offset_ratio)  \n",
    "\n",
    "rabi_ratio = g_F_85_rabi / g_F_87_rabi\n",
    "\n",
    "print('from rabi \\t', rabi_ratio) "
   ]
  },
  {
   "cell_type": "markdown",
   "metadata": {},
   "source": [
    "### Recovery Lifetime "
   ]
  },
  {
   "cell_type": "code",
   "execution_count": 23,
   "metadata": {},
   "outputs": [
    {
     "name": "stdout",
     "output_type": "stream",
     "text": [
      "Recovery time constant from H0 scan: \n",
      "\n",
      "Rb 85\t 3.88+/-0.06 s\n",
      "Rb 87\t 5.15+/-0.06 s\n",
      "\n",
      "\n",
      "Recovery time constant from inverted population: \n",
      "\n",
      "10.00+/-0.27 s\n"
     ]
    }
   ],
   "source": [
    "### Recovery time constant from H0 scan:\n",
    "# Note repeated values are due to oscilliscope cursor measurements\n",
    "\n",
    "Rb_85_recovery_t_half_array = np.array([2.64,2.64,2.72,2.72,2.72])\n",
    "Rb_85_recovery_tau_array = Rb_85_recovery_t_half_array / np.log(2)\n",
    "Rb_85_recovery_tau = unc.ufloat(np.mean(Rb_85_recovery_tau_array),np.std(Rb_85_recovery_tau_array))\n",
    "\n",
    "Rb_87_recovery_t_half_array = np.array([3.60,3.52,3.60,3.52,3.60])\n",
    "Rb_87_recovery_tau_array = Rb_87_recovery_t_half_array / np.log(2)\n",
    "Rb_87_recovery_tau = unc.ufloat(np.mean(Rb_87_recovery_tau_array),np.std(Rb_87_recovery_tau_array))\n",
    "\n",
    "print('Recovery time constant from H0 scan: \\n')\n",
    "print('Rb 85\\t',Rb_85_recovery_tau, 's')\n",
    "print('Rb 87\\t',Rb_87_recovery_tau, 's')\n",
    "print('\\n')\n",
    "\n",
    "### Recovery time constant from inverted population:\n",
    "\n",
    "inverted_recovery_t_half_array = np.array([6.80,6.80,7.20])\n",
    "inverted_recovery_tau_array = inverted_recovery_t_half_array / np.log(2)\n",
    "inverted_recovery_tau = unc.ufloat(np.mean(inverted_recovery_tau_array), np.std(inverted_recovery_tau_array))\n",
    "\n",
    "print('Recovery time constant from inverted population: \\n')\n",
    "print(inverted_recovery_tau, 's')\n",
    "\n"
   ]
  },
  {
   "cell_type": "markdown",
   "metadata": {},
   "source": [
    "### Extension: recovery lifetime after RF burst"
   ]
  },
  {
   "cell_type": "code",
   "execution_count": 24,
   "metadata": {},
   "outputs": [
    {
     "data": {
      "image/png": "[encoded data removed]",
      "text/plain": [
       "<Figure size 432x288 with 1 Axes>"
      ]
     },
     "metadata": {
      "needs_background": "light"
     },
     "output_type": "display_data"
    },
    {
     "data": {
      "image/png": "[encoded data removed]",
      "text/plain": [
       "<Figure size 432x288 with 1 Axes>"
      ]
     },
     "metadata": {
      "needs_background": "light"
     },
     "output_type": "display_data"
    }
   ],
   "source": [
    "### There is no apparent relationship we could discover between the pumping time constant and the\n",
    "### number of cycles in the burst\n",
    "\n",
    "ext_1 = pd.read_csv('pumping data - extension1.csv', header = 'infer')\n",
    "ext_2 = pd.read_csv('pumping data - extension2.csv', header = 'infer')\n",
    "\n",
    "#plt.scatter(ext_2['# Cycles'], ext_2['T ½ (ms)'])\n",
    "\n",
    "# phase = time width % period\n",
    "# period = 1 / frequency\n",
    "\n",
    "Omega = (6 / 1.52) * 1e3 # Hz, from dataset\n",
    "T = 1 / Omega\n",
    "\n",
    "ext_1['Phase'] = ext_1['# Cycles'] % T\n",
    "\n",
    "plt.scatter(ext_1['Time width (ms)'], ext_1['# Cycles'])\n",
    "plt.title('RF Cycles and burst duration (should be linear)')\n",
    "plt.xlabel('Time width (ms)'); plt.ylabel('# Cycles')\n",
    "plt.show()\n",
    "plt.scatter(ext_2['# Cycles'], ext_2['T ½ (ms)'])\n",
    "plt.title('Effect of RF burst on pumping time constant')\n",
    "plt.xlabel('# Cycles'); plt.ylabel('T ½ (ms)')\n",
    "plt.show()\n"
   ]
  }
 ],
 "metadata": {
  "kernelspec": {
   "display_name": "Python 3 (ipykernel)",
   "language": "python",
   "name": "python3"
  },
  "language_info": {
   "codemirror_mode": {
    "name": "ipython",
    "version": 3
   },
   "file_extension": ".py",
   "mimetype": "text/x-python",
   "name": "python",
   "nbconvert_exporter": "python",
   "pygments_lexer": "ipython3",
   "version": "3.9.7"
  }
 },
 "nbformat": 4,
 "nbformat_minor": 4
}
